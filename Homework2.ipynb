{
 "cells": [
  {
   "cell_type": "code",
   "execution_count": 1,
   "id": "46d98a8c-29e4-4e6e-85cc-b6a3e800ca1c",
   "metadata": {},
   "outputs": [],
   "source": [
    "import pandas as pd\n",
    "import numpy as np\n",
    "\n",
    "import seaborn as sns\n",
    "from matplotlib import pyplot as plt\n",
    "%matplotlib inline"
   ]
  },
  {
   "cell_type": "code",
   "execution_count": 2,
   "id": "fe5f63e7-fd95-4c65-b5b7-7a78bebd8851",
   "metadata": {},
   "outputs": [
    {
     "data": {
      "text/html": [
       "<div>\n",
       "<style scoped>\n",
       "    .dataframe tbody tr th:only-of-type {\n",
       "        vertical-align: middle;\n",
       "    }\n",
       "\n",
       "    .dataframe tbody tr th {\n",
       "        vertical-align: top;\n",
       "    }\n",
       "\n",
       "    .dataframe thead th {\n",
       "        text-align: right;\n",
       "    }\n",
       "</style>\n",
       "<table border=\"1\" class=\"dataframe\">\n",
       "  <thead>\n",
       "    <tr style=\"text-align: right;\">\n",
       "      <th></th>\n",
       "      <th>engine_displacement</th>\n",
       "      <th>num_cylinders</th>\n",
       "      <th>horsepower</th>\n",
       "      <th>vehicle_weight</th>\n",
       "      <th>acceleration</th>\n",
       "      <th>model_year</th>\n",
       "      <th>origin</th>\n",
       "      <th>fuel_type</th>\n",
       "      <th>drivetrain</th>\n",
       "      <th>num_doors</th>\n",
       "      <th>fuel_efficiency_mpg</th>\n",
       "    </tr>\n",
       "  </thead>\n",
       "  <tbody>\n",
       "    <tr>\n",
       "      <th>0</th>\n",
       "      <td>170</td>\n",
       "      <td>3.0</td>\n",
       "      <td>159.0</td>\n",
       "      <td>3413.433759</td>\n",
       "      <td>17.7</td>\n",
       "      <td>2003</td>\n",
       "      <td>Europe</td>\n",
       "      <td>Gasoline</td>\n",
       "      <td>All-wheel drive</td>\n",
       "      <td>0.0</td>\n",
       "      <td>13.231729</td>\n",
       "    </tr>\n",
       "    <tr>\n",
       "      <th>1</th>\n",
       "      <td>130</td>\n",
       "      <td>5.0</td>\n",
       "      <td>97.0</td>\n",
       "      <td>3149.664934</td>\n",
       "      <td>17.8</td>\n",
       "      <td>2007</td>\n",
       "      <td>USA</td>\n",
       "      <td>Gasoline</td>\n",
       "      <td>Front-wheel drive</td>\n",
       "      <td>0.0</td>\n",
       "      <td>13.688217</td>\n",
       "    </tr>\n",
       "    <tr>\n",
       "      <th>2</th>\n",
       "      <td>170</td>\n",
       "      <td>NaN</td>\n",
       "      <td>78.0</td>\n",
       "      <td>3079.038997</td>\n",
       "      <td>15.1</td>\n",
       "      <td>2018</td>\n",
       "      <td>Europe</td>\n",
       "      <td>Gasoline</td>\n",
       "      <td>Front-wheel drive</td>\n",
       "      <td>0.0</td>\n",
       "      <td>14.246341</td>\n",
       "    </tr>\n",
       "    <tr>\n",
       "      <th>3</th>\n",
       "      <td>220</td>\n",
       "      <td>4.0</td>\n",
       "      <td>NaN</td>\n",
       "      <td>2542.392402</td>\n",
       "      <td>20.2</td>\n",
       "      <td>2009</td>\n",
       "      <td>USA</td>\n",
       "      <td>Diesel</td>\n",
       "      <td>All-wheel drive</td>\n",
       "      <td>2.0</td>\n",
       "      <td>16.912736</td>\n",
       "    </tr>\n",
       "    <tr>\n",
       "      <th>4</th>\n",
       "      <td>210</td>\n",
       "      <td>1.0</td>\n",
       "      <td>140.0</td>\n",
       "      <td>3460.870990</td>\n",
       "      <td>14.4</td>\n",
       "      <td>2009</td>\n",
       "      <td>Europe</td>\n",
       "      <td>Gasoline</td>\n",
       "      <td>All-wheel drive</td>\n",
       "      <td>2.0</td>\n",
       "      <td>12.488369</td>\n",
       "    </tr>\n",
       "  </tbody>\n",
       "</table>\n",
       "</div>"
      ],
      "text/plain": [
       "   engine_displacement  num_cylinders  horsepower  vehicle_weight  \\\n",
       "0                  170            3.0       159.0     3413.433759   \n",
       "1                  130            5.0        97.0     3149.664934   \n",
       "2                  170            NaN        78.0     3079.038997   \n",
       "3                  220            4.0         NaN     2542.392402   \n",
       "4                  210            1.0       140.0     3460.870990   \n",
       "\n",
       "   acceleration  model_year  origin fuel_type         drivetrain  num_doors  \\\n",
       "0          17.7        2003  Europe  Gasoline    All-wheel drive        0.0   \n",
       "1          17.8        2007     USA  Gasoline  Front-wheel drive        0.0   \n",
       "2          15.1        2018  Europe  Gasoline  Front-wheel drive        0.0   \n",
       "3          20.2        2009     USA    Diesel    All-wheel drive        2.0   \n",
       "4          14.4        2009  Europe  Gasoline    All-wheel drive        2.0   \n",
       "\n",
       "   fuel_efficiency_mpg  \n",
       "0            13.231729  \n",
       "1            13.688217  \n",
       "2            14.246341  \n",
       "3            16.912736  \n",
       "4            12.488369  "
      ]
     },
     "execution_count": 2,
     "metadata": {},
     "output_type": "execute_result"
    }
   ],
   "source": [
    "df = pd.read_csv('https://raw.githubusercontent.com/alexeygrigorev/datasets/master/car_fuel_efficiency.csv')\n",
    "df.head(5)"
   ]
  },
  {
   "cell_type": "code",
   "execution_count": 3,
   "id": "9a9ca949-801f-4526-8b7a-a3e021cb6c68",
   "metadata": {},
   "outputs": [
    {
     "name": "stdout",
     "output_type": "stream",
     "text": [
      "The number of rows is 9704\n"
     ]
    }
   ],
   "source": [
    "num_of_rows = len(df)\n",
    "print(f\"The number of rows is {num_of_rows}\")"
   ]
  },
  {
   "cell_type": "code",
   "execution_count": 4,
   "id": "a8d16205-5036-4992-8572-1093bebad855",
   "metadata": {},
   "outputs": [
    {
     "data": {
      "text/plain": [
       "Index(['engine_displacement', 'num_cylinders', 'horsepower', 'vehicle_weight',\n",
       "       'acceleration', 'model_year', 'origin', 'fuel_type', 'drivetrain',\n",
       "       'num_doors', 'fuel_efficiency_mpg'],\n",
       "      dtype='object')"
      ]
     },
     "execution_count": 4,
     "metadata": {},
     "output_type": "execute_result"
    }
   ],
   "source": [
    "df.columns"
   ]
  },
  {
   "cell_type": "code",
   "execution_count": 5,
   "id": "ad4796b5-c5fb-4a27-b4b2-2573ad4e593b",
   "metadata": {},
   "outputs": [
    {
     "data": {
      "text/html": [
       "<div>\n",
       "<style scoped>\n",
       "    .dataframe tbody tr th:only-of-type {\n",
       "        vertical-align: middle;\n",
       "    }\n",
       "\n",
       "    .dataframe tbody tr th {\n",
       "        vertical-align: top;\n",
       "    }\n",
       "\n",
       "    .dataframe thead th {\n",
       "        text-align: right;\n",
       "    }\n",
       "</style>\n",
       "<table border=\"1\" class=\"dataframe\">\n",
       "  <thead>\n",
       "    <tr style=\"text-align: right;\">\n",
       "      <th></th>\n",
       "      <th>engine_displacement</th>\n",
       "      <th>horsepower</th>\n",
       "      <th>vehicle_weight</th>\n",
       "      <th>model_year</th>\n",
       "      <th>fuel_efficiency_mpg</th>\n",
       "    </tr>\n",
       "  </thead>\n",
       "  <tbody>\n",
       "    <tr>\n",
       "      <th>0</th>\n",
       "      <td>170</td>\n",
       "      <td>159.0</td>\n",
       "      <td>3413.433759</td>\n",
       "      <td>2003</td>\n",
       "      <td>13.231729</td>\n",
       "    </tr>\n",
       "    <tr>\n",
       "      <th>1</th>\n",
       "      <td>130</td>\n",
       "      <td>97.0</td>\n",
       "      <td>3149.664934</td>\n",
       "      <td>2007</td>\n",
       "      <td>13.688217</td>\n",
       "    </tr>\n",
       "    <tr>\n",
       "      <th>2</th>\n",
       "      <td>170</td>\n",
       "      <td>78.0</td>\n",
       "      <td>3079.038997</td>\n",
       "      <td>2018</td>\n",
       "      <td>14.246341</td>\n",
       "    </tr>\n",
       "    <tr>\n",
       "      <th>3</th>\n",
       "      <td>220</td>\n",
       "      <td>NaN</td>\n",
       "      <td>2542.392402</td>\n",
       "      <td>2009</td>\n",
       "      <td>16.912736</td>\n",
       "    </tr>\n",
       "    <tr>\n",
       "      <th>4</th>\n",
       "      <td>210</td>\n",
       "      <td>140.0</td>\n",
       "      <td>3460.870990</td>\n",
       "      <td>2009</td>\n",
       "      <td>12.488369</td>\n",
       "    </tr>\n",
       "  </tbody>\n",
       "</table>\n",
       "</div>"
      ],
      "text/plain": [
       "   engine_displacement  horsepower  vehicle_weight  model_year  \\\n",
       "0                  170       159.0     3413.433759        2003   \n",
       "1                  130        97.0     3149.664934        2007   \n",
       "2                  170        78.0     3079.038997        2018   \n",
       "3                  220         NaN     2542.392402        2009   \n",
       "4                  210       140.0     3460.870990        2009   \n",
       "\n",
       "   fuel_efficiency_mpg  \n",
       "0            13.231729  \n",
       "1            13.688217  \n",
       "2            14.246341  \n",
       "3            16.912736  \n",
       "4            12.488369  "
      ]
     },
     "execution_count": 5,
     "metadata": {},
     "output_type": "execute_result"
    }
   ],
   "source": [
    "base = [ 'engine_displacement','horsepower', 'vehicle_weight','model_year','fuel_efficiency_mpg']\n",
    "df1 = df[base]\n",
    "df1.head(5)"
   ]
  },
  {
   "cell_type": "code",
   "execution_count": 8,
   "id": "5894a413-32d4-46e8-8f6f-619917429ff0",
   "metadata": {},
   "outputs": [
    {
     "data": {
      "image/png": "[encoded data removed]",
      "text/plain": [
       "<Figure size 600x400 with 1 Axes>"
      ]
     },
     "metadata": {},
     "output_type": "display_data"
    }
   ],
   "source": [
    "plt.figure(figsize=(6, 4))\n",
    "\n",
    "sns.histplot(df1.fuel_efficiency_mpg, bins=40, color='black', alpha=1)\n",
    "plt.ylabel('Frequency')\n",
    "plt.xlabel('mpg')\n",
    "plt.title('Distribution of prices')\n",
    "\n",
    "plt.show()"
   ]
  },
  {
   "cell_type": "code",
   "execution_count": 9,
   "id": "ca986c6e-6def-41d1-88e4-2765516a35f1",
   "metadata": {},
   "outputs": [
    {
     "data": {
      "text/plain": [
       "engine_displacement      0\n",
       "horsepower             708\n",
       "vehicle_weight           0\n",
       "model_year               0\n",
       "fuel_efficiency_mpg      0\n",
       "dtype: int64"
      ]
     },
     "execution_count": 9,
     "metadata": {},
     "output_type": "execute_result"
    }
   ],
   "source": [
    "df1.isnull().sum()"
   ]
  },
  {
   "cell_type": "code",
   "execution_count": 10,
   "id": "7519a95e-826d-4bea-9519-05b297f9e91b",
   "metadata": {},
   "outputs": [
    {
     "data": {
      "text/plain": [
       "np.float64(149.0)"
      ]
     },
     "execution_count": 10,
     "metadata": {},
     "output_type": "execute_result"
    }
   ],
   "source": [
    "df1['horsepower'].median()"
   ]
  },
  {
   "cell_type": "code",
   "execution_count": 11,
   "id": "460ee0e4-3439-4ae3-9f61-b9b7d7b45890",
   "metadata": {},
   "outputs": [],
   "source": [
    "np.random.seed(42)\n",
    "\n",
    "n = len(df1)\n",
    "\n",
    "n_val = int(0.2 * n)\n",
    "n_test = int(0.2 * n)\n",
    "n_train = n - (n_val + n_test)\n",
    "\n",
    "idx = np.arange(n)\n",
    "np.random.shuffle(idx)\n",
    "\n",
    "df_shuffled = df1.iloc[idx]\n",
    "\n",
    "df_train = df_shuffled.iloc[:n_train].copy()\n",
    "df_val = df_shuffled.iloc[n_train:n_train+n_val].copy()\n",
    "df_test = df_shuffled.iloc[n_train+n_val:].copy()"
   ]
  },
  {
   "cell_type": "code",
   "execution_count": 12,
   "id": "5c8e6c97-f3a4-4846-8c43-b3a142ac1577",
   "metadata": {},
   "outputs": [
    {
     "data": {
      "text/plain": [
       "engine_displacement      0\n",
       "horsepower             429\n",
       "vehicle_weight           0\n",
       "model_year               0\n",
       "fuel_efficiency_mpg      0\n",
       "dtype: int64"
      ]
     },
     "execution_count": 12,
     "metadata": {},
     "output_type": "execute_result"
    }
   ],
   "source": [
    "df_train.isnull().sum()"
   ]
  },
  {
   "cell_type": "code",
   "execution_count": 13,
   "id": "7a1306dc-07f4-4957-bb0c-cbc7de08078f",
   "metadata": {},
   "outputs": [
    {
     "data": {
      "text/plain": [
       "engine_displacement    0\n",
       "horsepower             0\n",
       "vehicle_weight         0\n",
       "model_year             0\n",
       "fuel_efficiency_mpg    0\n",
       "dtype: int64"
      ]
     },
     "execution_count": 13,
     "metadata": {},
     "output_type": "execute_result"
    }
   ],
   "source": [
    "df_train['horsepower'] = df_train['horsepower'].fillna(0)\n",
    "df_train.isnull().sum()"
   ]
  },
  {
   "cell_type": "code",
   "execution_count": 14,
   "id": "8ae076b2-2674-4982-9609-726dcc3a9549",
   "metadata": {},
   "outputs": [],
   "source": [
    "y_train_orig = df_train.fuel_efficiency_mpg.values\n",
    "y_val_orig = df_val.fuel_efficiency_mpg.values\n",
    "y_test_orig = df_test.fuel_efficiency_mpg.values\n",
    "\n",
    "y_train = np.log1p(df_train.fuel_efficiency_mpg.values)\n",
    "y_val = np.log1p(df_val.fuel_efficiency_mpg.values)\n",
    "y_test = np.log1p(df_test.fuel_efficiency_mpg.values)\n",
    "\n",
    "del df_train['fuel_efficiency_mpg']\n",
    "del df_val['fuel_efficiency_mpg']\n",
    "del df_test['fuel_efficiency_mpg']"
   ]
  },
  {
   "cell_type": "code",
   "execution_count": 15,
   "id": "b2e13aab-413b-42c3-b39a-223b44818d44",
   "metadata": {},
   "outputs": [],
   "source": [
    "def train_linear_regression(X, y):\n",
    "    ones = np.ones(X.shape[0])\n",
    "    X = np.column_stack([ones, X])\n",
    "\n",
    "    XTX = X.T.dot(X)\n",
    "    XTX_inv = np.linalg.inv(XTX)\n",
    "    w = XTX_inv.dot(X.T).dot(y)\n",
    "    \n",
    "    return w[0], w[1:]"
   ]
  },
  {
   "cell_type": "code",
   "execution_count": 16,
   "id": "11b638b4-bbcc-4775-9de2-d5f1dbb3fda1",
   "metadata": {},
   "outputs": [],
   "source": [
    "w_0, w = train_linear_regression(df_train, y_train)\n",
    "\n",
    "y_pred = w_0 + df_train.dot(w)"
   ]
  },
  {
   "cell_type": "code",
   "execution_count": 17,
   "id": "b14faa86-228c-4c2d-81ec-5daa7e4b8d39",
   "metadata": {},
   "outputs": [
    {
     "data": {
      "text/plain": [
       "483     2.909816\n",
       "7506    2.842787\n",
       "8795    2.933106\n",
       "1688    2.531355\n",
       "6217    3.032078\n",
       "          ...   \n",
       "1696    2.885802\n",
       "5685    2.432427\n",
       "6735    2.923297\n",
       "2052    3.003055\n",
       "1776    2.944049\n",
       "Length: 5824, dtype: float64"
      ]
     },
     "execution_count": 17,
     "metadata": {},
     "output_type": "execute_result"
    }
   ],
   "source": [
    "y_pred"
   ]
  },
  {
   "cell_type": "code",
   "execution_count": 28,
   "id": "1c4f1def-f0eb-4e25-b435-feb252530f0b",
   "metadata": {},
   "outputs": [
    {
     "data": {
      "text/plain": [
       "np.float64(0.04)"
      ]
     },
     "execution_count": 28,
     "metadata": {},
     "output_type": "execute_result"
    }
   ],
   "source": [
    "def rmse(y, y_pred):\n",
    "    error = y_pred - y\n",
    "    mse = (error ** 2).mean()\n",
    "    return np.sqrt(mse)\n",
    "\n",
    "np.round(rmse(y_train, y_pred),2)"
   ]
  },
  {
   "cell_type": "code",
   "execution_count": 19,
   "id": "e0205630-1c27-4d83-9792-924d52417883",
   "metadata": {},
   "outputs": [
    {
     "data": {
      "text/plain": [
       "engine_displacement      0\n",
       "horsepower             708\n",
       "vehicle_weight           0\n",
       "model_year               0\n",
       "fuel_efficiency_mpg      0\n",
       "dtype: int64"
      ]
     },
     "execution_count": 19,
     "metadata": {},
     "output_type": "execute_result"
    }
   ],
   "source": [
    "df1.isnull().sum()"
   ]
  },
  {
   "cell_type": "code",
   "execution_count": 20,
   "id": "995787ef-2c86-47f7-9223-c4008f595b32",
   "metadata": {},
   "outputs": [],
   "source": [
    "df_shuffled = df1.iloc[idx]\n",
    "\n",
    "df_train2 = df_shuffled.iloc[:n_train].copy()\n",
    "df_val2 = df_shuffled.iloc[n_train:n_train+n_val].copy()\n",
    "df_test2 = df_shuffled.iloc[n_train+n_val:].copy()"
   ]
  },
  {
   "cell_type": "code",
   "execution_count": 23,
   "id": "3735246c-d83d-451c-89ad-f2ee5e73ad77",
   "metadata": {},
   "outputs": [
    {
     "data": {
      "text/plain": [
       "engine_displacement    0\n",
       "horsepower             0\n",
       "vehicle_weight         0\n",
       "model_year             0\n",
       "fuel_efficiency_mpg    0\n",
       "dtype: int64"
      ]
     },
     "execution_count": 23,
     "metadata": {},
     "output_type": "execute_result"
    }
   ],
   "source": [
    "df_train2.isnull().sum()\n",
    "df_train2['horsepower'] = df_train2['horsepower'].fillna(df_train2.horsepower.mean())\n",
    "df_train2.isnull().sum()"
   ]
  },
  {
   "cell_type": "code",
   "execution_count": 24,
   "id": "1e6a6dba-edc6-421d-bc4a-0429a3eb12c0",
   "metadata": {},
   "outputs": [
    {
     "data": {
      "text/plain": [
       "np.float64(149.54476367006487)"
      ]
     },
     "execution_count": 24,
     "metadata": {},
     "output_type": "execute_result"
    }
   ],
   "source": [
    "df_train2.horsepower.median()"
   ]
  },
  {
   "cell_type": "code",
   "execution_count": 25,
   "id": "1270feb7-14fb-47eb-a558-0576911534fa",
   "metadata": {},
   "outputs": [
    {
     "data": {
      "text/plain": [
       "483     2.865084\n",
       "7506    2.843151\n",
       "8795    2.990980\n",
       "1688    2.554256\n",
       "6217    3.042929\n",
       "          ...   \n",
       "1696    2.885743\n",
       "5685    2.440151\n",
       "6735    2.926485\n",
       "2052    3.012416\n",
       "1776    2.950596\n",
       "Length: 5824, dtype: float64"
      ]
     },
     "execution_count": 25,
     "metadata": {},
     "output_type": "execute_result"
    }
   ],
   "source": [
    "w_0, w = train_linear_regression(df_train2, y_train)\n",
    "\n",
    "y_pred2 = w_0 + df_train2.dot(w)\n",
    "\n",
    "y_pred2"
   ]
  },
  {
   "cell_type": "code",
   "execution_count": 27,
   "id": "9b40c116-55d8-46b8-9c47-28caec488c5a",
   "metadata": {},
   "outputs": [
    {
     "data": {
      "text/plain": [
       "np.float64(0.02)"
      ]
     },
     "execution_count": 27,
     "metadata": {},
     "output_type": "execute_result"
    }
   ],
   "source": [
    "np.round(rmse(y_train, y_pred2),2)"
   ]
  },
  {
   "cell_type": "code",
   "execution_count": 29,
   "id": "4b99008e-c793-493e-806a-60665bfd51cd",
   "metadata": {},
   "outputs": [],
   "source": [
    "def train_linear_regression_reg(X, y, r=0.0):\n",
    "    ones = np.ones(X.shape[0])\n",
    "    X = np.column_stack([ones, X])\n",
    "\n",
    "    XTX = X.T.dot(X)\n",
    "    reg = r * np.eye(XTX.shape[0])\n",
    "    XTX = XTX + reg\n",
    "\n",
    "    XTX_inv = np.linalg.inv(XTX)\n",
    "    w = XTX_inv.dot(X.T).dot(y)\n",
    "    \n",
    "    return w[0], w[1:]"
   ]
  },
  {
   "cell_type": "code",
   "execution_count": 35,
   "id": "abfe4879-207c-49c2-b985-7851d0f3a274",
   "metadata": {},
   "outputs": [
    {
     "name": "stdout",
     "output_type": "stream",
     "text": [
      "train 0.039086325392652485\n",
      "val 0.039979257825777034\n"
     ]
    }
   ],
   "source": [
    "w_0, w = train_linear_regression_reg(df_train, y_train, r=0)\n",
    "\n",
    "y_pred = w_0 + df_train.dot(w)\n",
    "print('train', rmse(y_train, y_pred))\n",
    "\n",
    "df_val['horsepower'] = df_val['horsepower'].fillna(0)\n",
    "y_pred = w_0 + df_val.dot(w)\n",
    "print('val', rmse(y_val, y_pred))"
   ]
  },
  {
   "cell_type": "code",
   "execution_count": 41,
   "id": "53ed19d8-9e88-4f27-a3c5-07bff641f5fd",
   "metadata": {},
   "outputs": [
    {
     "name": "stdout",
     "output_type": "stream",
     "text": [
      "train 0.039120822415064364\n",
      "val 0.039977872016356164\n"
     ]
    }
   ],
   "source": [
    "w_0, w = train_linear_regression_reg(df_train, y_train, r=0.01)\n",
    "\n",
    "y_pred = w_0 + df_train.dot(w)\n",
    "print('train', rmse(y_train, y_pred))\n",
    "\n",
    "y_pred = w_0 + df_val.dot(w)\n",
    "print('val', rmse(y_val, y_pred))\n"
   ]
  },
  {
   "cell_type": "code",
   "execution_count": 43,
   "id": "ba4a39a8-909e-4194-86eb-d543cebfa103",
   "metadata": {},
   "outputs": [
    {
     "name": "stdout",
     "output_type": "stream",
     "text": [
      "train 0.03978182696713116\n",
      "val 0.04050873984547382\n"
     ]
    }
   ],
   "source": [
    "w_0, w = train_linear_regression_reg(df_train, y_train, r=0.1)\n",
    "\n",
    "y_pred = w_0 + df_train.dot(w)\n",
    "print('train', rmse(y_train, y_pred))\n",
    "\n",
    "y_pred = w_0 + df_val.dot(w)\n",
    "print('val', rmse(y_val, y_pred))\n"
   ]
  },
  {
   "cell_type": "code",
   "execution_count": 44,
   "id": "5fd2f432-ed17-420a-961d-29131360eea7",
   "metadata": {},
   "outputs": [
    {
     "name": "stdout",
     "output_type": "stream",
     "text": [
      "train 0.040717721675687525\n",
      "val 0.041353851508238566\n"
     ]
    }
   ],
   "source": [
    "w_0, w = train_linear_regression_reg(df_train, y_train, r=1)\n",
    "\n",
    "y_pred = w_0 + df_train.dot(w)\n",
    "print('train', rmse(y_train, y_pred))\n",
    "\n",
    "y_pred = w_0 + df_val.dot(w)\n",
    "print('val', rmse(y_val, y_pred))\n"
   ]
  },
  {
   "cell_type": "code",
   "execution_count": 45,
   "id": "108e368e-6eed-46b6-96ee-323297e62b3e",
   "metadata": {},
   "outputs": [
    {
     "name": "stdout",
     "output_type": "stream",
     "text": [
      "train 0.040905246065473015\n",
      "val 0.04152680123751592\n"
     ]
    }
   ],
   "source": [
    "w_0, w = train_linear_regression_reg(df_train, y_train, r=10)\n",
    "\n",
    "y_pred = w_0 + df_train.dot(w)\n",
    "print('train', rmse(y_train, y_pred))\n",
    "\n",
    "y_pred = w_0 + df_val.dot(w)\n",
    "print('val', rmse(y_val, y_pred))"
   ]
  },
  {
   "cell_type": "code",
   "execution_count": 46,
   "id": "35a35167-9d4c-4a6a-99ae-e49b3f7f157d",
   "metadata": {},
   "outputs": [
    {
     "name": "stdout",
     "output_type": "stream",
     "text": [
      "train 0.040925744720228335\n",
      "val 0.04154575656081053\n"
     ]
    }
   ],
   "source": [
    "w_0, w = train_linear_regression_reg(df_train, y_train, r=100)\n",
    "\n",
    "y_pred = w_0 + df_train.dot(w)\n",
    "print('train', rmse(y_train, y_pred))\n",
    "\n",
    "y_pred = w_0 + df_val.dot(w)\n",
    "print('val', rmse(y_val, y_pred))"
   ]
  },
  {
   "cell_type": "code",
   "execution_count": 61,
   "id": "016c8295-2f1a-46dc-8c08-07e7385cb688",
   "metadata": {},
   "outputs": [
    {
     "name": "stdout",
     "output_type": "stream",
     "text": [
      "train 0.039100215045131115\n",
      "val 0.03801775537080148\n"
     ]
    }
   ],
   "source": [
    "np.random.seed(0)\n",
    "\n",
    "idx = np.arange(n)\n",
    "np.random.shuffle(idx)\n",
    "\n",
    "df_shuffled = df1.iloc[idx]\n",
    "\n",
    "df_train = df_shuffled.iloc[:n_train].copy()\n",
    "df_val = df_shuffled.iloc[n_train:n_train+n_val].copy()\n",
    "df_test = df_shuffled.iloc[n_train+n_val:].copy()\n",
    "\n",
    "df_train['horsepower'] = df_train['horsepower'].fillna(0)\n",
    "\n",
    "y_train_orig = df_train.fuel_efficiency_mpg.values\n",
    "y_val_orig = df_val.fuel_efficiency_mpg.values\n",
    "y_test_orig = df_test.fuel_efficiency_mpg.values\n",
    "\n",
    "y_train = np.log1p(df_train.fuel_efficiency_mpg.values)\n",
    "y_val = np.log1p(df_val.fuel_efficiency_mpg.values)\n",
    "y_test = np.log1p(df_test.fuel_efficiency_mpg.values)\n",
    "\n",
    "del df_train['fuel_efficiency_mpg']\n",
    "del df_val['fuel_efficiency_mpg']\n",
    "del df_test['fuel_efficiency_mpg']\n",
    "\n",
    "w_0, w = train_linear_regression_reg(df_train, y_train, r=0)\n",
    "\n",
    "y_pred = w_0 + df_train.dot(w)\n",
    "print('train', rmse(y_train, y_pred))\n",
    "\n",
    "df_val['horsepower'] = df_val['horsepower'].fillna(0)\n",
    "y_pred = w_0 + df_val.dot(w)\n",
    "rmse_0 = rmse(y_val, y_pred)\n",
    "print(f\"val {rmse_0}\")"
   ]
  },
  {
   "cell_type": "code",
   "execution_count": 62,
   "id": "42e28f5a-1721-4f01-9264-cf9e381099d2",
   "metadata": {},
   "outputs": [
    {
     "name": "stdout",
     "output_type": "stream",
     "text": [
      "train 0.0388651074169436\n",
      "val 0.03927885333921255\n"
     ]
    }
   ],
   "source": [
    "np.random.seed(1)\n",
    "\n",
    "idx = np.arange(n)\n",
    "np.random.shuffle(idx)\n",
    "\n",
    "df_shuffled = df1.iloc[idx]\n",
    "\n",
    "df_train = df_shuffled.iloc[:n_train].copy()\n",
    "df_val = df_shuffled.iloc[n_train:n_train+n_val].copy()\n",
    "df_test = df_shuffled.iloc[n_train+n_val:].copy()\n",
    "\n",
    "df_train['horsepower'] = df_train['horsepower'].fillna(0)\n",
    "\n",
    "y_train_orig = df_train.fuel_efficiency_mpg.values\n",
    "y_val_orig = df_val.fuel_efficiency_mpg.values\n",
    "y_test_orig = df_test.fuel_efficiency_mpg.values\n",
    "\n",
    "y_train = np.log1p(df_train.fuel_efficiency_mpg.values)\n",
    "y_val = np.log1p(df_val.fuel_efficiency_mpg.values)\n",
    "y_test = np.log1p(df_test.fuel_efficiency_mpg.values)\n",
    "\n",
    "del df_train['fuel_efficiency_mpg']\n",
    "del df_val['fuel_efficiency_mpg']\n",
    "del df_test['fuel_efficiency_mpg']\n",
    "\n",
    "w_0, w = train_linear_regression_reg(df_train, y_train, r=0)\n",
    "\n",
    "y_pred = w_0 + df_train.dot(w)\n",
    "print('train', rmse(y_train, y_pred))\n",
    "\n",
    "df_val['horsepower'] = df_val['horsepower'].fillna(0)\n",
    "y_pred = w_0 + df_val.dot(w)\n",
    "rmse_1 = rmse(y_val, y_pred)\n",
    "print(f\"val {rmse_1}\")"
   ]
  },
  {
   "cell_type": "code",
   "execution_count": 63,
   "id": "5921a654-1b13-4acb-8228-49932a229476",
   "metadata": {},
   "outputs": [
    {
     "name": "stdout",
     "output_type": "stream",
     "text": [
      "train 0.03902570026567232\n",
      "val 0.03944653052537959\n"
     ]
    }
   ],
   "source": [
    "np.random.seed(2)\n",
    "\n",
    "idx = np.arange(n)\n",
    "np.random.shuffle(idx)\n",
    "\n",
    "df_shuffled = df1.iloc[idx]\n",
    "\n",
    "df_train = df_shuffled.iloc[:n_train].copy()\n",
    "df_val = df_shuffled.iloc[n_train:n_train+n_val].copy()\n",
    "df_test = df_shuffled.iloc[n_train+n_val:].copy()\n",
    "\n",
    "df_train['horsepower'] = df_train['horsepower'].fillna(0)\n",
    "\n",
    "y_train_orig = df_train.fuel_efficiency_mpg.values\n",
    "y_val_orig = df_val.fuel_efficiency_mpg.values\n",
    "y_test_orig = df_test.fuel_efficiency_mpg.values\n",
    "\n",
    "y_train = np.log1p(df_train.fuel_efficiency_mpg.values)\n",
    "y_val = np.log1p(df_val.fuel_efficiency_mpg.values)\n",
    "y_test = np.log1p(df_test.fuel_efficiency_mpg.values)\n",
    "\n",
    "del df_train['fuel_efficiency_mpg']\n",
    "del df_val['fuel_efficiency_mpg']\n",
    "del df_test['fuel_efficiency_mpg']\n",
    "\n",
    "w_0, w = train_linear_regression_reg(df_train, y_train, r=0)\n",
    "\n",
    "y_pred = w_0 + df_train.dot(w)\n",
    "print('train', rmse(y_train, y_pred))\n",
    "\n",
    "df_val['horsepower'] = df_val['horsepower'].fillna(0)\n",
    "y_pred = w_0 + df_val.dot(w)\n",
    "rmse_2 = rmse(y_val, y_pred)\n",
    "print(f\"val {rmse_2}\")"
   ]
  },
  {
   "cell_type": "code",
   "execution_count": 64,
   "id": "e01966f5-e027-4d00-89f1-06f75db7ba41",
   "metadata": {},
   "outputs": [
    {
     "name": "stdout",
     "output_type": "stream",
     "text": [
      "train 0.039245076044555065\n",
      "val 0.038727637037731855\n"
     ]
    }
   ],
   "source": [
    "np.random.seed(3)\n",
    "\n",
    "idx = np.arange(n)\n",
    "np.random.shuffle(idx)\n",
    "\n",
    "df_shuffled = df1.iloc[idx]\n",
    "\n",
    "df_train = df_shuffled.iloc[:n_train].copy()\n",
    "df_val = df_shuffled.iloc[n_train:n_train+n_val].copy()\n",
    "df_test = df_shuffled.iloc[n_train+n_val:].copy()\n",
    "\n",
    "df_train['horsepower'] = df_train['horsepower'].fillna(0)\n",
    "\n",
    "y_train_orig = df_train.fuel_efficiency_mpg.values\n",
    "y_val_orig = df_val.fuel_efficiency_mpg.values\n",
    "y_test_orig = df_test.fuel_efficiency_mpg.values\n",
    "\n",
    "y_train = np.log1p(df_train.fuel_efficiency_mpg.values)\n",
    "y_val = np.log1p(df_val.fuel_efficiency_mpg.values)\n",
    "y_test = np.log1p(df_test.fuel_efficiency_mpg.values)\n",
    "\n",
    "del df_train['fuel_efficiency_mpg']\n",
    "del df_val['fuel_efficiency_mpg']\n",
    "del df_test['fuel_efficiency_mpg']\n",
    "\n",
    "w_0, w = train_linear_regression_reg(df_train, y_train, r=0)\n",
    "\n",
    "y_pred = w_0 + df_train.dot(w)\n",
    "print('train', rmse(y_train, y_pred))\n",
    "\n",
    "df_val['horsepower'] = df_val['horsepower'].fillna(0)\n",
    "y_pred = w_0 + df_val.dot(w)\n",
    "rmse_3 = rmse(y_val, y_pred)\n",
    "print(f\"val {rmse_3}\")"
   ]
  },
  {
   "cell_type": "code",
   "execution_count": 65,
   "id": "18e1ab37-6554-4ccd-b77b-32e5c8f3e3e0",
   "metadata": {},
   "outputs": [
    {
     "name": "stdout",
     "output_type": "stream",
     "text": [
      "train 0.03918680725272193\n",
      "val 0.03727535850054727\n"
     ]
    }
   ],
   "source": [
    "np.random.seed(4)\n",
    "\n",
    "idx = np.arange(n)\n",
    "np.random.shuffle(idx)\n",
    "\n",
    "df_shuffled = df1.iloc[idx]\n",
    "\n",
    "df_train = df_shuffled.iloc[:n_train].copy()\n",
    "df_val = df_shuffled.iloc[n_train:n_train+n_val].copy()\n",
    "df_test = df_shuffled.iloc[n_train+n_val:].copy()\n",
    "\n",
    "df_train['horsepower'] = df_train['horsepower'].fillna(0)\n",
    "\n",
    "y_train_orig = df_train.fuel_efficiency_mpg.values\n",
    "y_val_orig = df_val.fuel_efficiency_mpg.values\n",
    "y_test_orig = df_test.fuel_efficiency_mpg.values\n",
    "\n",
    "y_train = np.log1p(df_train.fuel_efficiency_mpg.values)\n",
    "y_val = np.log1p(df_val.fuel_efficiency_mpg.values)\n",
    "y_test = np.log1p(df_test.fuel_efficiency_mpg.values)\n",
    "\n",
    "del df_train['fuel_efficiency_mpg']\n",
    "del df_val['fuel_efficiency_mpg']\n",
    "del df_test['fuel_efficiency_mpg']\n",
    "\n",
    "w_0, w = train_linear_regression_reg(df_train, y_train, r=0)\n",
    "\n",
    "y_pred = w_0 + df_train.dot(w)\n",
    "print('train', rmse(y_train, y_pred))\n",
    "\n",
    "df_val['horsepower'] = df_val['horsepower'].fillna(0)\n",
    "y_pred = w_0 + df_val.dot(w)\n",
    "rmse_4 = rmse(y_val, y_pred)\n",
    "print(f\"val {rmse_4}\")"
   ]
  },
  {
   "cell_type": "code",
   "execution_count": 66,
   "id": "d72599b5-fc4d-420e-ae99-6790980166d6",
   "metadata": {},
   "outputs": [
    {
     "name": "stdout",
     "output_type": "stream",
     "text": [
      "train 0.038843849137581224\n",
      "val 0.03938438834004637\n"
     ]
    }
   ],
   "source": [
    "np.random.seed(5)\n",
    "\n",
    "idx = np.arange(n)\n",
    "np.random.shuffle(idx)\n",
    "\n",
    "df_shuffled = df1.iloc[idx]\n",
    "\n",
    "df_train = df_shuffled.iloc[:n_train].copy()\n",
    "df_val = df_shuffled.iloc[n_train:n_train+n_val].copy()\n",
    "df_test = df_shuffled.iloc[n_train+n_val:].copy()\n",
    "\n",
    "df_train['horsepower'] = df_train['horsepower'].fillna(0)\n",
    "\n",
    "y_train_orig = df_train.fuel_efficiency_mpg.values\n",
    "y_val_orig = df_val.fuel_efficiency_mpg.values\n",
    "y_test_orig = df_test.fuel_efficiency_mpg.values\n",
    "\n",
    "y_train = np.log1p(df_train.fuel_efficiency_mpg.values)\n",
    "y_val = np.log1p(df_val.fuel_efficiency_mpg.values)\n",
    "y_test = np.log1p(df_test.fuel_efficiency_mpg.values)\n",
    "\n",
    "del df_train['fuel_efficiency_mpg']\n",
    "del df_val['fuel_efficiency_mpg']\n",
    "del df_test['fuel_efficiency_mpg']\n",
    "\n",
    "w_0, w = train_linear_regression_reg(df_train, y_train, r=0)\n",
    "\n",
    "y_pred = w_0 + df_train.dot(w)\n",
    "print('train', rmse(y_train, y_pred))\n",
    "\n",
    "df_val['horsepower'] = df_val['horsepower'].fillna(0)\n",
    "y_pred = w_0 + df_val.dot(w)\n",
    "rmse_5 = rmse(y_val, y_pred)\n",
    "print(f\"val {rmse_5}\")"
   ]
  },
  {
   "cell_type": "code",
   "execution_count": 67,
   "id": "bb455930-867e-4b31-af12-f82eb6cfd5b9",
   "metadata": {},
   "outputs": [
    {
     "name": "stdout",
     "output_type": "stream",
     "text": [
      "train 0.03883943031344286\n",
      "val 0.03890763931360936\n"
     ]
    }
   ],
   "source": [
    "np.random.seed(6)\n",
    "\n",
    "idx = np.arange(n)\n",
    "np.random.shuffle(idx)\n",
    "\n",
    "df_shuffled = df1.iloc[idx]\n",
    "\n",
    "df_train = df_shuffled.iloc[:n_train].copy()\n",
    "df_val = df_shuffled.iloc[n_train:n_train+n_val].copy()\n",
    "df_test = df_shuffled.iloc[n_train+n_val:].copy()\n",
    "\n",
    "df_train['horsepower'] = df_train['horsepower'].fillna(0)\n",
    "\n",
    "y_train_orig = df_train.fuel_efficiency_mpg.values\n",
    "y_val_orig = df_val.fuel_efficiency_mpg.values\n",
    "y_test_orig = df_test.fuel_efficiency_mpg.values\n",
    "\n",
    "y_train = np.log1p(df_train.fuel_efficiency_mpg.values)\n",
    "y_val = np.log1p(df_val.fuel_efficiency_mpg.values)\n",
    "y_test = np.log1p(df_test.fuel_efficiency_mpg.values)\n",
    "\n",
    "del df_train['fuel_efficiency_mpg']\n",
    "del df_val['fuel_efficiency_mpg']\n",
    "del df_test['fuel_efficiency_mpg']\n",
    "\n",
    "w_0, w = train_linear_regression_reg(df_train, y_train, r=0)\n",
    "\n",
    "y_pred = w_0 + df_train.dot(w)\n",
    "print('train', rmse(y_train, y_pred))\n",
    "\n",
    "df_val['horsepower'] = df_val['horsepower'].fillna(0)\n",
    "y_pred = w_0 + df_val.dot(w)\n",
    "rmse_6 = rmse(y_val, y_pred)\n",
    "print(f\"val {rmse_6}\")"
   ]
  },
  {
   "cell_type": "code",
   "execution_count": 68,
   "id": "e65bb3b3-ca13-41bc-8518-2ba4086a4826",
   "metadata": {},
   "outputs": [
    {
     "name": "stdout",
     "output_type": "stream",
     "text": [
      "train 0.03940659525858261\n",
      "val 0.03837971626977783\n"
     ]
    }
   ],
   "source": [
    "np.random.seed(7)\n",
    "\n",
    "idx = np.arange(n)\n",
    "np.random.shuffle(idx)\n",
    "\n",
    "df_shuffled = df1.iloc[idx]\n",
    "\n",
    "df_train = df_shuffled.iloc[:n_train].copy()\n",
    "df_val = df_shuffled.iloc[n_train:n_train+n_val].copy()\n",
    "df_test = df_shuffled.iloc[n_train+n_val:].copy()\n",
    "\n",
    "df_train['horsepower'] = df_train['horsepower'].fillna(0)\n",
    "\n",
    "y_train_orig = df_train.fuel_efficiency_mpg.values\n",
    "y_val_orig = df_val.fuel_efficiency_mpg.values\n",
    "y_test_orig = df_test.fuel_efficiency_mpg.values\n",
    "\n",
    "y_train = np.log1p(df_train.fuel_efficiency_mpg.values)\n",
    "y_val = np.log1p(df_val.fuel_efficiency_mpg.values)\n",
    "y_test = np.log1p(df_test.fuel_efficiency_mpg.values)\n",
    "\n",
    "del df_train['fuel_efficiency_mpg']\n",
    "del df_val['fuel_efficiency_mpg']\n",
    "del df_test['fuel_efficiency_mpg']\n",
    "\n",
    "w_0, w = train_linear_regression_reg(df_train, y_train, r=0)\n",
    "\n",
    "y_pred = w_0 + df_train.dot(w)\n",
    "print('train', rmse(y_train, y_pred))\n",
    "\n",
    "df_val['horsepower'] = df_val['horsepower'].fillna(0)\n",
    "y_pred = w_0 + df_val.dot(w)\n",
    "rmse_7 = rmse(y_val, y_pred)\n",
    "print(f\"val {rmse_7}\")"
   ]
  },
  {
   "cell_type": "code",
   "execution_count": 69,
   "id": "f60cf4cd-b8f6-4557-ad98-7ee8d85d1bf4",
   "metadata": {},
   "outputs": [
    {
     "name": "stdout",
     "output_type": "stream",
     "text": [
      "train 0.039185005230288186\n",
      "val 0.04018986975230982\n"
     ]
    }
   ],
   "source": [
    "np.random.seed(8)\n",
    "\n",
    "idx = np.arange(n)\n",
    "np.random.shuffle(idx)\n",
    "\n",
    "df_shuffled = df1.iloc[idx]\n",
    "\n",
    "df_train = df_shuffled.iloc[:n_train].copy()\n",
    "df_val = df_shuffled.iloc[n_train:n_train+n_val].copy()\n",
    "df_test = df_shuffled.iloc[n_train+n_val:].copy()\n",
    "\n",
    "df_train['horsepower'] = df_train['horsepower'].fillna(0)\n",
    "\n",
    "y_train_orig = df_train.fuel_efficiency_mpg.values\n",
    "y_val_orig = df_val.fuel_efficiency_mpg.values\n",
    "y_test_orig = df_test.fuel_efficiency_mpg.values\n",
    "\n",
    "y_train = np.log1p(df_train.fuel_efficiency_mpg.values)\n",
    "y_val = np.log1p(df_val.fuel_efficiency_mpg.values)\n",
    "y_test = np.log1p(df_test.fuel_efficiency_mpg.values)\n",
    "\n",
    "del df_train['fuel_efficiency_mpg']\n",
    "del df_val['fuel_efficiency_mpg']\n",
    "del df_test['fuel_efficiency_mpg']\n",
    "\n",
    "w_0, w = train_linear_regression_reg(df_train, y_train, r=0)\n",
    "\n",
    "y_pred = w_0 + df_train.dot(w)\n",
    "print('train', rmse(y_train, y_pred))\n",
    "\n",
    "df_val['horsepower'] = df_val['horsepower'].fillna(0)\n",
    "y_pred = w_0 + df_val.dot(w)\n",
    "rmse_8 = rmse(y_val, y_pred)\n",
    "print(f\"val {rmse_8}\")"
   ]
  },
  {
   "cell_type": "code",
   "execution_count": 70,
   "id": "32bbb845-25af-42fe-926d-76305b84a875",
   "metadata": {},
   "outputs": [
    {
     "name": "stdout",
     "output_type": "stream",
     "text": [
      "train 0.03910175305182104\n",
      "val 0.03860764644229973\n"
     ]
    }
   ],
   "source": [
    "np.random.seed(9)\n",
    "\n",
    "idx = np.arange(n)\n",
    "np.random.shuffle(idx)\n",
    "\n",
    "df_shuffled = df1.iloc[idx]\n",
    "\n",
    "df_train = df_shuffled.iloc[:n_train].copy()\n",
    "df_val = df_shuffled.iloc[n_train:n_train+n_val].copy()\n",
    "df_test = df_shuffled.iloc[n_train+n_val:].copy()\n",
    "\n",
    "df_train['horsepower'] = df_train['horsepower'].fillna(0)\n",
    "\n",
    "y_train_orig = df_train.fuel_efficiency_mpg.values\n",
    "y_val_orig = df_val.fuel_efficiency_mpg.values\n",
    "y_test_orig = df_test.fuel_efficiency_mpg.values\n",
    "\n",
    "y_train = np.log1p(df_train.fuel_efficiency_mpg.values)\n",
    "y_val = np.log1p(df_val.fuel_efficiency_mpg.values)\n",
    "y_test = np.log1p(df_test.fuel_efficiency_mpg.values)\n",
    "\n",
    "del df_train['fuel_efficiency_mpg']\n",
    "del df_val['fuel_efficiency_mpg']\n",
    "del df_test['fuel_efficiency_mpg']\n",
    "\n",
    "w_0, w = train_linear_regression_reg(df_train, y_train, r=0)\n",
    "\n",
    "y_pred = w_0 + df_train.dot(w)\n",
    "print('train', rmse(y_train, y_pred))\n",
    "\n",
    "df_val['horsepower'] = df_val['horsepower'].fillna(0)\n",
    "y_pred = w_0 + df_val.dot(w)\n",
    "rmse_9 = rmse(y_val, y_pred)\n",
    "print(f\"val {rmse_9}\")"
   ]
  },
  {
   "cell_type": "code",
   "execution_count": 72,
   "id": "7c1f9fc5-2fce-423e-82bf-412e9319d4dd",
   "metadata": {},
   "outputs": [
    {
     "name": "stdout",
     "output_type": "stream",
     "text": [
      "0.0007799236944796668\n"
     ]
    }
   ],
   "source": [
    "data_rsme = [rmse_0,rmse_1,rmse_2,rmse_3,rmse_4,rmse_5,rmse_6,rmse_7,rmse_8,rmse_9]\n",
    "std_dev = np.std(data_rsme)\n",
    "print(std_dev)"
   ]
  },
  {
   "cell_type": "code",
   "execution_count": 85,
   "id": "0e36a5fe-5532-4431-86e1-0c6fc136b2b6",
   "metadata": {},
   "outputs": [
    {
     "name": "stdout",
     "output_type": "stream",
     "text": [
      "train 0.03888044097364\n",
      "val 0.03888044097364\n"
     ]
    }
   ],
   "source": [
    "np.random.seed(9)\n",
    "\n",
    "idx = np.arange(n)\n",
    "np.random.shuffle(idx)\n",
    "\n",
    "df_shuffled = df1.iloc[idx]\n",
    "\n",
    "df_train = df_shuffled.iloc[:n_train+n_val].copy()\n",
    "df_test = df_shuffled.iloc[n_train:].copy()\n",
    "\n",
    "df_test['horsepower'] = df_test['horsepower'].fillna(0)\n",
    "df_train['horsepower'] = df_train['horsepower'].fillna(0)\n",
    "\n",
    "y_train_orig = df_train.fuel_efficiency_mpg.values\n",
    "y_test_orig = df_test.fuel_efficiency_mpg.values\n",
    "\n",
    "y_train = np.log1p(df_train.fuel_efficiency_mpg.values)\n",
    "y_test = np.log1p(df_test.fuel_efficiency_mpg.values)\n",
    "\n",
    "del df_train['fuel_efficiency_mpg']\n",
    "del df_test['fuel_efficiency_mpg']\n",
    "\n",
    "w_0, w = train_linear_regression_reg(df_test, y_test, r=0.001)\n",
    "\n",
    "y_pred = w_0 + df_test.dot(w)\n",
    "print('train', rmse(y_test, y_pred))\n",
    "\n",
    "rmse_10 = rmse(y_test, y_pred)\n",
    "print(f\"val {rmse_10}\")\n"
   ]
  },
  {
   "cell_type": "code",
   "execution_count": null,
   "id": "727e5844-a2d2-4c6e-9513-c5cef0edb616",
   "metadata": {},
   "outputs": [],
   "source": []
  }
 ],
 "metadata": {
  "kernelspec": {
   "display_name": "Python 3 (ipykernel)",
   "language": "python",
   "name": "python3"
  },
  "language_info": {
   "codemirror_mode": {
    "name": "ipython",
    "version": 3
   },
   "file_extension": ".py",
   "mimetype": "text/x-python",
   "name": "python",
   "nbconvert_exporter": "python",
   "pygments_lexer": "ipython3",
   "version": "3.12.1"
  }
 },
 "nbformat": 4,
 "nbformat_minor": 5
}
